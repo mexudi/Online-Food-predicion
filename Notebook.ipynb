{
 "cells": [
  {
   "cell_type": "markdown",
   "id": "50fb20d8",
   "metadata": {},
   "source": [
    "## Online Food Order Prediction: Use Case\n",
    "\n",
    "After implementing the complete online food delivery system, companies like Swiggy and Zomato will always try to improve them. The main objective of these companies toward their customers is to deliver the food at the right time. To deliver the food faster, these companies identify areas where the demand for online food orders is high and employ more delivery partners in those locations. It helps deliver food faster in areas with more orders.\n",
    "These companies have so much data about their customers that they now know the food ordering habits of all customers. With this data, they can also predict whether or not a customer will order again from their app. It is a good technique for identifying areas, families and customer types with more business opportunities.\n",
    "\n",
    "I hope you now have understood the use case of online food order prediction systems. In the section below, I will take you through how you can train a Machine Learning model to predict online food orders from a particular customer.\n"
   ]
  },
  {
   "cell_type": "markdown",
   "id": "e0104967",
   "metadata": {},
   "source": [
    "## Online Food Order Prediction using Python\n",
    "\n",
    "Now let’s start with the task of online food order prediction with machine learning."
   ]
  },
  {
   "cell_type": "code",
   "execution_count": null,
   "id": "bb5a83e2",
   "metadata": {},
   "outputs": [],
   "source": []
  }
 ],
 "metadata": {
  "kernelspec": {
   "display_name": "Python 3 (ipykernel)",
   "language": "python",
   "name": "python3"
  },
  "language_info": {
   "codemirror_mode": {
    "name": "ipython",
    "version": 3
   },
   "file_extension": ".py",
   "mimetype": "text/x-python",
   "name": "python",
   "nbconvert_exporter": "python",
   "pygments_lexer": "ipython3",
   "version": "3.10.0"
  }
 },
 "nbformat": 4,
 "nbformat_minor": 5
}
